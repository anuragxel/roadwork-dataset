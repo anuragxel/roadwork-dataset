{
 "cells": [
  {
   "cell_type": "code",
   "execution_count": 1,
   "metadata": {},
   "outputs": [],
   "source": [
    "import os\n",
    "import json\n",
    "\n",
    "base_dir = \"/mnt/drive-d/anurag/roadwork/\"\n",
    "det_data_dir = os.path.join(base_dir, \"det\")"
   ]
  },
  {
   "cell_type": "code",
   "execution_count": 2,
   "metadata": {},
   "outputs": [],
   "source": [
    "import mmdet.datasets\n",
    "from mmdet.datasets import CocoDataset\n",
    "from mmdet.registry import DATASETS\n",
    "\n",
    "@DATASETS.register_module()\n",
    "class WorkzoneInstanceDataset(CocoDataset):\n",
    "    METAINFO = { \n",
    "        \"classes\" : (\n",
    "        \"Police Officer\", # 1\n",
    "        \"Police Vehicle\", # 2\n",
    "        \"Sidewalk\", # 3\n",
    "        \"Cone\", # 4\n",
    "        \"Fence\", # 5\n",
    "        \"Drum\", # 6\n",
    "        \"Barricade\", # 7\n",
    "        \"Barrier\", # 8\n",
    "        \"Work Vehicle\", # 9\n",
    "        \"Vertical Panel\", # 10\n",
    "        \"Tubular Marker\", # 11\n",
    "        \"Arrow Board\", # 12\n",
    "        \"Temporary Traffic Control Message Board\", # 13\n",
    "        \"Road\", # 14\n",
    "        \"Bike Lane\", # 15\n",
    "        \"Temporary Traffic Control Sign\", # 16\n",
    "        \"Work Equipment\", # 17\n",
    "        \"Worker\", # 18 \n",
    "        \"Other Roadwork Objects\", # 19\n",
    "        ),\n",
    "        \"palette\" :\n",
    "        [(220, 20, 60), (119, 11, 32), (0, 0, 142), (0, 0, 230), (106, 0, 228),\n",
    "         (0, 60, 100), (0, 80, 100), (0, 0, 70), (0, 0, 192), (250, 170, 30),\n",
    "         (100, 170, 30), (220, 220, 0), (175, 116, 175), (250, 0, 30),\n",
    "         (165, 42, 42), (255, 77, 255), (0, 226, 252), (182, 182, 255),\n",
    "         (0, 82, 0), (120, 166, 157), (110, 76, 0), (174, 57, 255),\n",
    "         (199, 100, 0), (72, 0, 118), (255, 179, 240), (0, 125, 92),\n",
    "         (209, 0, 151), (188, 208, 182), (0, 220, 176), (255, 99, 164),\n",
    "         (92, 0, 73), (133, 129, 255), (78, 180, 255), (0, 228, 0),\n",
    "         (174, 255, 243), (45, 89, 255), (134, 134, 103), (145, 148, 174),\n",
    "         (255, 208, 186), (197, 226, 255), (171, 134, 1), (109, 63, 54),\n",
    "         (207, 138, 255), (151, 0, 95), (9, 80, 61), (84, 105, 51),\n",
    "         (74, 65, 105), (166, 196, 102), (208, 195, 210), (255, 109, 65),\n",
    "         (0, 143, 149), (179, 0, 194), (209, 99, 106), (5, 121, 0),\n",
    "         (227, 255, 205), (147, 186, 208), (153, 69, 1), (3, 95, 161),\n",
    "         (163, 255, 0), (119, 0, 170), (0, 182, 199), (0, 165, 120),\n",
    "         (183, 130, 88), (95, 32, 0), (130, 114, 135), (110, 129, 133),\n",
    "         (166, 74, 118), (219, 142, 185), (79, 210, 114), (178, 90, 62),\n",
    "         (65, 70, 15), (127, 167, 115), (59, 105, 106), (142, 108, 45),\n",
    "         (196, 172, 0), (95, 54, 80), (128, 76, 255), (201, 57, 1),\n",
    "         (246, 0, 122), (191, 162, 208)]\n",
    "    }"
   ]
  },
  {
   "cell_type": "code",
   "execution_count": 27,
   "metadata": {},
   "outputs": [],
   "source": [
    "PALLETE = WorkzoneInstanceDataset.METAINFO[\"palette\"]\n",
    "CLASSES = WorkzoneInstanceDataset.METAINFO[\"classes\"]\n",
    "\n",
    "import cv2\n",
    "from PIL import Image, ImageDraw\n",
    "import numpy as np\n",
    "\n",
    "def open_image(image_cv2):\n",
    "    image_cv2 = cv2.cvtColor(image_cv2, cv2.COLOR_BGR2RGB)\n",
    "    # Open image\n",
    "    img_open = Image.fromarray(image_cv2).convert(\"RGBA\")\n",
    "    # Create layer for bboxes and masks\n",
    "    draw_layer = Image.new(\"RGBA\", img_open.size, (255, 255, 255, 0))\n",
    "    draw = ImageDraw.Draw(draw_layer)\n",
    "    return img_open, draw_layer, draw\n",
    "\n",
    "def draw_objects(img_path, objects, categories, out_dir, alpha=127):\n",
    "    img_cv2 = cv2.imread(img_path)\n",
    "    img_open, draw_layer, draw = open_image(img_cv2)\n",
    "\n",
    "    names_colors = [ (x['id'], x[\"name\"], PALLETE[i]) for i, x in enumerate(categories) ]\n",
    "\n",
    "    mask_objects = objects\n",
    "    obj_colors = []\n",
    "    for obj in mask_objects:\n",
    "        cat_id = obj[\"category_id\"]\n",
    "        _, c = [ x[1:] for x in names_colors if x[0] == cat_id ][0]\n",
    "        obj_colors.append(c)\n",
    "\n",
    "    ## draw masks\n",
    "    masks = [obj[\"segmentation\"] for obj in mask_objects]\n",
    "    for idx, (c, m) in enumerate(zip(obj_colors, masks)):\n",
    "        alpha = alpha\n",
    "        fill = tuple(list(c) + [alpha])\n",
    "        outline = tuple(list(c) + [255])\n",
    "        if isinstance(m, list):\n",
    "            for m_ in m:\n",
    "                try:\n",
    "                    if m_:\n",
    "                        draw.polygon(m_, outline=fill, fill=fill, width=5)\n",
    "                except:\n",
    "                    continue\n",
    "        else:\n",
    "            continue\n",
    "\n",
    "    ## draw polylines\n",
    "    poly_objects = objects\n",
    "    poly_obj_colors = []\n",
    "    for obj in poly_objects:\n",
    "        cat_id = obj[\"category_id\"]\n",
    "        _, c = [ x[1:] for x in names_colors if x[0] == cat_id ][0]\n",
    "        poly_obj_colors.append(c)\n",
    "    try:\n",
    "        polys = [ [ x[\"segmentation\"], x[\"attributes\"][\"occluded\"] ] for x in poly_objects]\n",
    "    except:\n",
    "        polys = [ [ x[\"segmentation\"], False ] for x in poly_objects]\n",
    "    for c, (poly, occluded) in zip(poly_obj_colors, polys):\n",
    "        outline = tuple(list(c) + [255])\n",
    "        try:\n",
    "            for m in poly:\n",
    "                if m:\n",
    "                    draw.polygon(m, outline=outline, fill=None, width=2)\n",
    "        except:\n",
    "            continue\n",
    "\n",
    "    composed_image = Image.alpha_composite(img_open, draw_layer)\n",
    "    composed_image.save(os.path.join(out_dir, os.path.splitext(os.path.basename(img_path))[0] + \".png\" ))"
   ]
  },
  {
   "cell_type": "code",
   "execution_count": 37,
   "metadata": {},
   "outputs": [],
   "source": [
    "config = \"./models/segm_gps_split/mask-rcnn_r50.py\"\n",
    "checkpoint = \"./models/segm_gps_split/roadwork_segm_model_gps_split.pth\"\n",
    "device = \"cuda:0\"\n",
    "\n",
    "## The json files are in the standard COCO format for instance segmentation\n",
    "## however, they may contain additional fields like \"attributes\" for each object\n",
    "## or \"gps\" or \"scene_description\" for each image. These fields are ignored by\n",
    "## the COCO dataset loader.\n",
    "val_data = os.path.join(det_data_dir, \"annotations\", \"instances_val_gps_split.json\")\n",
    "with open(val_data, \"r\") as f:\n",
    "    val_data = json.load(f)\n",
    "\n",
    "im_info = val_data[\"images\"][100]\n",
    "img_path = os.path.join(det_data_dir, \"images\", im_info[\"file_name\"])\n",
    "objects = [ x for x in val_data[\"annotations\"] if x[\"image_id\"] == im_info[\"id\"] ]\n",
    "categories = val_data[\"categories\"]\n",
    "\n",
    "draw_objects(img_path, objects, categories, out_dir=\"./output/segm_gps_split/gt\", alpha=170)"
   ]
  },
  {
   "cell_type": "code",
   "execution_count": 39,
   "metadata": {},
   "outputs": [
    {
     "name": "stdout",
     "output_type": "stream",
     "text": [
      "Loads checkpoint by local backend from path: ./models/segm_gps_split/roadwork_segm_model_gps_split.pth\n"
     ]
    },
    {
     "data": {
      "text/html": [
       "<pre style=\"white-space:pre;overflow-x:auto;line-height:normal;font-family:Menlo,'DejaVu Sans Mono',consolas,'Courier New',monospace\"></pre>\n"
      ],
      "text/plain": []
     },
     "metadata": {},
     "output_type": "display_data"
    },
    {
     "data": {
      "text/html": [
       "<pre style=\"white-space:pre;overflow-x:auto;line-height:normal;font-family:Menlo,'DejaVu Sans Mono',consolas,'Courier New',monospace\">\n",
       "</pre>\n"
      ],
      "text/plain": [
       "\n"
      ]
     },
     "metadata": {},
     "output_type": "display_data"
    }
   ],
   "source": [
    "from mmdet.apis import DetInferencer\n",
    "\n",
    "inferencer = DetInferencer(config, checkpoint, device)\n",
    "result = inferencer(img_path, return_vis=False)\n",
    "\n",
    "## rle to polygon\n",
    "from pycocotools import mask as mask_utils\n",
    "def mask_rle_to_polygon(rle):\n",
    "    mask = mask_utils.decode(rle)\n",
    "    contours, _ = cv2.findContours(mask, cv2.RETR_EXTERNAL, cv2.CHAIN_APPROX_SIMPLE)\n",
    "    return [c.flatten().tolist() for c in contours]\n",
    "\n",
    "## convert MMDET result to COCO result format\n",
    "mmdet_result = []\n",
    "result = result['predictions'][0]\n",
    "for label, scores, bbox, mask in zip(result['labels'], result['scores'], result['bboxes'], result['masks']):\n",
    "    ## convert mmdet label to class id\n",
    "\n",
    "    mmdet_result.append({\n",
    "        \"category_id\" : label,\n",
    "        \"score\" : scores,\n",
    "        \"bbox\" : bbox,\n",
    "        \"segmentation\" : mask_rle_to_polygon(mask)\n",
    "    })\n",
    "\n",
    "draw_objects(img_path, mmdet_result, categories, out_dir=\"./output/segm_gps_split/vis\", alpha=170)"
   ]
  }
 ],
 "metadata": {
  "kernelspec": {
   "display_name": "roadwork",
   "language": "python",
   "name": "python3"
  },
  "language_info": {
   "codemirror_mode": {
    "name": "ipython",
    "version": 3
   },
   "file_extension": ".py",
   "mimetype": "text/x-python",
   "name": "python",
   "nbconvert_exporter": "python",
   "pygments_lexer": "ipython3",
   "version": "3.9.0"
  }
 },
 "nbformat": 4,
 "nbformat_minor": 2
}
