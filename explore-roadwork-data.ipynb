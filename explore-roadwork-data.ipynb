{
 "cells": [
  {
   "cell_type": "markdown",
   "metadata": {},
   "source": [
    "## Image Struct\n",
    "```\n",
    "{\n",
    "  \"id\": \"A unique identifier for the image\",\n",
    "  \"width\": \"The width of the image in pixels\",\n",
    "  \"height\": \"The height of the image in pixels\",\n",
    "  \"file_name\": \"The filename of the image, typically following a structured naming convention\",\n",
    "  \"license\": \"An identifier for the image's license type\",\n",
    "  \"flickr_url\": \"A URL to the image on Flickr, if available\",\n",
    "  \"coco_url\": \"A URL to the image in the COCO dataset, if available\",\n",
    "  \"date_captured\": \"The timestamp or date when the image was captured\",\n",
    "  \"gps\": [\n",
    "    \"Latitude coordinate of the image location\",\n",
    "    \"Longitude coordinate of the image location\"\n",
    "  ],\n",
    "  \"city_name\": \"The name of the city where the image was taken\",\n",
    "  \"video_info\": {\n",
    "    \"vid_id\": \"An identifier for the video if the image is part of a video\",\n",
    "    \"seq_id\": \"An identifier for the sequence in the video\",\n",
    "    \"frame_id\": \"An identifier for the specific frame in the sequence\"\n",
    "  },\n",
    "  \"scene_level_tags\": {\n",
    "    \"travel_alteration\": [\n",
    "      \"Descriptions of any travel alterations observed in the scene\",\n",
    "      \"e.g., Partially Blocked, Fully Blocked\"\n",
    "    ],\n",
    "    \"weather\": [\n",
    "      \"Descriptions of the weather conditions in the scene\",\n",
    "      \"e.g., Sunny, Rainy\"\n",
    "    ],\n",
    "    \"daytime\": \"Description of the time of day in the scene\",\n",
    "    \"scene_environment\": \"Description of the environment of the scene, e.g., Urban, Rural\"\n",
    "  },\n",
    "  \"scene_description\": \"A detailed description of the scene, mentioning specific elements like work zones, vehicles, and any obstructions\"\n",
    "}\n",
    "```"
   ]
  }
 ],
 "metadata": {
  "language_info": {
   "name": "python"
  }
 },
 "nbformat": 4,
 "nbformat_minor": 2
}
