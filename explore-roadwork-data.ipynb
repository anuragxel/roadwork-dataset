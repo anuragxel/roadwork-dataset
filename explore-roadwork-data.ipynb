{
 "cells": [
  {
   "cell_type": "code",
   "execution_count": null,
   "metadata": {},
   "outputs": [],
   "source": [
    "import os\n",
    "import json\n",
    "\n",
    "base_dir = \"/mnt/drive-d/anurag/roadwork/\"\n",
    "det_data_dir = os.path.join(base_dir, \"scene\")"
   ]
  }
 ],
 "metadata": {
  "language_info": {
   "name": "python"
  }
 },
 "nbformat": 4,
 "nbformat_minor": 2
}
